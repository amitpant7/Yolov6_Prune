{
 "cells": [
  {
   "cell_type": "code",
   "execution_count": 3,
   "metadata": {},
   "outputs": [
    {
     "ename": "AssertionError",
     "evalue": "",
     "output_type": "error",
     "traceback": [
      "\u001b[1;31m---------------------------------------------------------------------------\u001b[0m",
      "\u001b[1;31mAssertionError\u001b[0m                            Traceback (most recent call last)",
      "File \u001b[1;32mX:\\LogicTronix\\Yolov6 Pruning\\tools\\train.py:266\u001b[0m\n\u001b[0;32m    264\u001b[0m \u001b[38;5;28;01mif\u001b[39;00m \u001b[38;5;18m__name__\u001b[39m \u001b[38;5;241m==\u001b[39m \u001b[38;5;124m\"\u001b[39m\u001b[38;5;124m__main__\u001b[39m\u001b[38;5;124m\"\u001b[39m:\n\u001b[0;32m    265\u001b[0m     args \u001b[38;5;241m=\u001b[39m get_args_parser()\u001b[38;5;241m.\u001b[39mparse_args()\n\u001b[1;32m--> 266\u001b[0m     \u001b[43mmain\u001b[49m\u001b[43m(\u001b[49m\u001b[43margs\u001b[49m\u001b[43m)\u001b[49m\n",
      "File \u001b[1;32mX:\\LogicTronix\\Yolov6 Pruning\\tools\\train.py:234\u001b[0m, in \u001b[0;36mmain\u001b[1;34m(args)\u001b[0m\n\u001b[0;32m    232\u001b[0m \u001b[38;5;66;03m# Setup\u001b[39;00m\n\u001b[0;32m    233\u001b[0m args\u001b[38;5;241m.\u001b[39mlocal_rank, args\u001b[38;5;241m.\u001b[39mrank, args\u001b[38;5;241m.\u001b[39mworld_size \u001b[38;5;241m=\u001b[39m get_envs()\n\u001b[1;32m--> 234\u001b[0m cfg, device, args \u001b[38;5;241m=\u001b[39m \u001b[43mcheck_and_init\u001b[49m\u001b[43m(\u001b[49m\u001b[43margs\u001b[49m\u001b[43m)\u001b[49m\n\u001b[0;32m    235\u001b[0m \u001b[38;5;66;03m# reload envs because args was chagned in check_and_init(args)\u001b[39;00m\n\u001b[0;32m    236\u001b[0m args\u001b[38;5;241m.\u001b[39mlocal_rank, args\u001b[38;5;241m.\u001b[39mrank, args\u001b[38;5;241m.\u001b[39mworld_size \u001b[38;5;241m=\u001b[39m get_envs()\n",
      "File \u001b[1;32mX:\\LogicTronix\\Yolov6 Pruning\\tools\\train.py:220\u001b[0m, in \u001b[0;36mcheck_and_init\u001b[1;34m(args)\u001b[0m\n\u001b[0;32m    218\u001b[0m     \u001b[38;5;28msetattr\u001b[39m(cfg, \u001b[38;5;124m\"\u001b[39m\u001b[38;5;124mtraining_mode\u001b[39m\u001b[38;5;124m\"\u001b[39m, \u001b[38;5;124m\"\u001b[39m\u001b[38;5;124mrepvgg\u001b[39m\u001b[38;5;124m\"\u001b[39m)\n\u001b[0;32m    219\u001b[0m \u001b[38;5;66;03m# check device\u001b[39;00m\n\u001b[1;32m--> 220\u001b[0m device \u001b[38;5;241m=\u001b[39m \u001b[43mselect_device\u001b[49m\u001b[43m(\u001b[49m\u001b[43margs\u001b[49m\u001b[38;5;241;43m.\u001b[39;49m\u001b[43mdevice\u001b[49m\u001b[43m)\u001b[49m\n\u001b[0;32m    221\u001b[0m \u001b[38;5;66;03m# set random seed\u001b[39;00m\n\u001b[0;32m    222\u001b[0m set_random_seed(\u001b[38;5;241m1\u001b[39m \u001b[38;5;241m+\u001b[39m args\u001b[38;5;241m.\u001b[39mrank, deterministic\u001b[38;5;241m=\u001b[39m(args\u001b[38;5;241m.\u001b[39mrank \u001b[38;5;241m==\u001b[39m \u001b[38;5;241m-\u001b[39m\u001b[38;5;241m1\u001b[39m))\n",
      "File \u001b[1;32mx:\\LogicTronix\\Yolov6 Pruning\\yolov6\\utils\\envs.py:32\u001b[0m, in \u001b[0;36mselect_device\u001b[1;34m(device)\u001b[0m\n\u001b[0;32m     30\u001b[0m \u001b[38;5;28;01melif\u001b[39;00m device:\n\u001b[0;32m     31\u001b[0m     os\u001b[38;5;241m.\u001b[39menviron[\u001b[38;5;124m'\u001b[39m\u001b[38;5;124mCUDA_VISIBLE_DEVICES\u001b[39m\u001b[38;5;124m'\u001b[39m] \u001b[38;5;241m=\u001b[39m device\n\u001b[1;32m---> 32\u001b[0m     \u001b[38;5;28;01massert\u001b[39;00m torch\u001b[38;5;241m.\u001b[39mcuda\u001b[38;5;241m.\u001b[39mis_available()\n\u001b[0;32m     33\u001b[0m     nd \u001b[38;5;241m=\u001b[39m \u001b[38;5;28mlen\u001b[39m(device\u001b[38;5;241m.\u001b[39mstrip()\u001b[38;5;241m.\u001b[39msplit(\u001b[38;5;124m'\u001b[39m\u001b[38;5;124m,\u001b[39m\u001b[38;5;124m'\u001b[39m))\n\u001b[0;32m     34\u001b[0m     LOGGER\u001b[38;5;241m.\u001b[39minfo(\u001b[38;5;124mf\u001b[39m\u001b[38;5;124m'\u001b[39m\u001b[38;5;124mUsing \u001b[39m\u001b[38;5;132;01m{\u001b[39;00mnd\u001b[38;5;132;01m}\u001b[39;00m\u001b[38;5;124m GPU for training... \u001b[39m\u001b[38;5;124m'\u001b[39m)\n",
      "\u001b[1;31mAssertionError\u001b[0m: "
     ]
    }
   ],
   "source": [
    "%run tools/train.py --batch 1 --conf configs/yolov6s_finetune.py --data data/dataset.yaml --fuse_ab --device 'cpu'"
   ]
  }
 ],
 "metadata": {
  "kernelspec": {
   "display_name": "ml",
   "language": "python",
   "name": "python3"
  },
  "language_info": {
   "codemirror_mode": {
    "name": "ipython",
    "version": 3
   },
   "file_extension": ".py",
   "mimetype": "text/x-python",
   "name": "python",
   "nbconvert_exporter": "python",
   "pygments_lexer": "ipython3",
   "version": "3.8.18"
  }
 },
 "nbformat": 4,
 "nbformat_minor": 2
}
